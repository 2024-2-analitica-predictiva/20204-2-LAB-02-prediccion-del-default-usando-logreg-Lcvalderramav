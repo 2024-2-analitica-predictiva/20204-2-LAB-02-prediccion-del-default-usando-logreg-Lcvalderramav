{
  "nbformat": 4,
  "nbformat_minor": 0,
  "metadata": {
    "colab": {
      "provenance": []
    },
    "kernelspec": {
      "name": "python3",
      "display_name": "Python 3"
    },
    "language_info": {
      "name": "python"
    }
  },
  "cells": [
    {
      "cell_type": "code",
      "source": [
        "# Importar librerias\n",
        "\n",
        "import pandas as pd\n",
        "import numpy as np\n",
        "from sklearn.model_selection import train_test_split, GridSearchCV\n",
        "from sklearn.feature_selection import SelectKBest, f_classif\n",
        "from sklearn.linear_model import LogisticRegression\n",
        "from sklearn.pipeline import Pipeline\n",
        "from sklearn.preprocessing import OneHotEncoder, MinMaxScaler\n",
        "from sklearn.compose import ColumnTransformer\n",
        "from sklearn.metrics import precision_score, balanced_accuracy_score, recall_score, f1_score, confusion_matrix\n",
        "import json\n",
        "import gzip\n",
        "import joblib\n",
        "\n"
      ],
      "metadata": {
        "id": "eWbR0FtevfED"
      },
      "execution_count": 39,
      "outputs": []
    },
    {
      "cell_type": "code",
      "execution_count": 34,
      "metadata": {
        "id": "LG0msxXhuqbJ"
      },
      "outputs": [],
      "source": [
        "# Paso 1\n",
        "\n",
        "train = pd.read_csv('/content/files/input/test_default_of_credit_card_clients.csv')\n",
        "test = pd.read_csv('/content/files/input/train_default_of_credit_card_clients.csv')\n",
        "\n",
        "train.rename(columns={\"default payment next month\": \"default\"}, inplace=True)\n",
        "test.rename(columns={\"default payment next month\": \"default\"}, inplace=True)\n",
        "\n",
        "train.drop(columns=[\"ID\"], inplace=True)\n",
        "test.drop(columns=[\"ID\"], inplace=True)\n",
        "\n",
        "train.dropna(inplace=True)\n",
        "test.dropna(inplace=True)\n",
        "\n",
        "train['EDUCATION'] = np.where(train['EDUCATION'] > 4, 4, train['EDUCATION'])\n",
        "test['EDUCATION'] = np.where(test['EDUCATION'] > 4, 4, test['EDUCATION'])\n",
        "\n",
        "\n"
      ]
    },
    {
      "cell_type": "code",
      "source": [
        "# Paso 2.\n",
        "x_train = train.drop(columns=[\"default\"])\n",
        "y_train = train[\"default\"]\n",
        "x_test = test.drop(columns=[\"default\"])\n",
        "y_test = test[\"default\"]"
      ],
      "metadata": {
        "id": "4luvNkJrvEZH"
      },
      "execution_count": 35,
      "outputs": []
    },
    {
      "cell_type": "code",
      "source": [
        "# Paso 3\n",
        "categorical_features = ['SEX', 'EDUCATION', 'MARRIAGE']\n",
        "numerical_features = [col for col in train.columns if col not in categorical_features + ['default']]\n",
        "\n",
        "categorical_transformer = OneHotEncoder(handle_unknown='ignore')\n",
        "\n",
        "numerical_transformer = MinMaxScaler()\n",
        "\n",
        "preprocessor = ColumnTransformer(\n",
        "    transformers=[\n",
        "        ('cat', categorical_transformer, categorical_features),\n",
        "        ('num', numerical_transformer, numerical_features)\n",
        "    ]\n",
        ")\n",
        "\n",
        "pipeline = Pipeline(steps=[\n",
        "    ('preprocessor', preprocessor),\n",
        "    ('feature_selection', SelectKBest(score_func=f_classif, k=10)),\n",
        "    ('classifier', LogisticRegression(random_state=42, max_iter=1000))\n",
        "])\n",
        "\n"
      ],
      "metadata": {
        "id": "wBhLKOylxyRW"
      },
      "execution_count": 40,
      "outputs": []
    },
    {
      "cell_type": "code",
      "source": [
        "# Paso 4.\n",
        "param_grid = {\n",
        "    'feature_selection__k': range(1, 11),\n",
        "    'classifier__C': [0.1, 1, 10],\n",
        "    'classifier__penalty': ['l1', 'l2'],\n",
        "    'classifier__solver': ['liblinear'],\n",
        "    'classifier__max_iter': [100, 200]\n",
        "}\n",
        "\n",
        "model = GridSearchCV(\n",
        "    pipeline,\n",
        "    param_grid,\n",
        "    cv=10,\n",
        "    scoring=\"balanced_accuracy\",\n",
        "    n_jobs=-1,\n",
        "    refit=True\n",
        ")\n",
        "\n",
        "model.fit(x_train, y_train)\n",
        "\n",
        "print(f\"Mejores hiperparámetros: {model.best_params_}\")\n"
      ],
      "metadata": {
        "colab": {
          "base_uri": "https://localhost:8080/"
        },
        "id": "Ak6XnivEx1BH",
        "outputId": "74bed6a8-de86-42b5-d2a0-2064f27fc712"
      },
      "execution_count": 41,
      "outputs": [
        {
          "output_type": "stream",
          "name": "stdout",
          "text": [
            "Mejores hiperparámetros: {'classifier__C': 1, 'classifier__max_iter': 100, 'classifier__penalty': 'l1', 'classifier__solver': 'liblinear', 'feature_selection__k': 1}\n"
          ]
        }
      ]
    },
    {
      "cell_type": "code",
      "source": [
        "# Paso 5.\n",
        "with gzip.open('files/models/model.pkl.gz', 'wb') as f:\n",
        "    joblib.dump(model.best_estimator_, f)\n",
        "\n"
      ],
      "metadata": {
        "id": "q7HMxs8Ex2eV"
      },
      "execution_count": 43,
      "outputs": []
    },
    {
      "cell_type": "code",
      "source": [
        "# Paso 6\n",
        "y_train_pred = model.predict(x_train)\n",
        "y_test_pred = model.predict(x_test)\n",
        "\n",
        "metrics_train = {\n",
        "    'type': 'metrics',\n",
        "    'dataset': 'train',\n",
        "    'precision': precision_score(y_train, y_train_pred),\n",
        "    'balanced_accuracy': balanced_accuracy_score(y_train, y_train_pred),\n",
        "    'recall': recall_score(y_train, y_train_pred),\n",
        "    'f1_score': f1_score(y_train, y_train_pred)\n",
        "}\n",
        "\n",
        "metrics_test = {\n",
        "    'type': 'metrics',\n",
        "    'dataset': 'test',\n",
        "    'precision': precision_score(y_test, y_test_pred),\n",
        "    'balanced_accuracy': balanced_accuracy_score(y_test, y_test_pred),\n",
        "    'recall': recall_score(y_test, y_test_pred),\n",
        "    'f1_score': f1_score(y_test, y_test_pred)\n",
        "}\n",
        "\n",
        "os.makedirs(\"files/output\", exist_ok=True)\n",
        "\n",
        "metrics_path = \"files/output/metrics.json\"\n",
        "\n",
        "with open(metrics_path, 'w') as f:\n",
        "    json.dump([metrics_train, metrics_test], f, indent=4)\n",
        "\n",
        "print(f\"Métricas guardadas en: {metrics_path}\")\n",
        "\n",
        "\n",
        "\n"
      ],
      "metadata": {
        "colab": {
          "base_uri": "https://localhost:8080/"
        },
        "id": "IthJ6AGax3_d",
        "outputId": "9be66627-7d25-4f20-9ca1-cb448f44baf3"
      },
      "execution_count": 50,
      "outputs": [
        {
          "output_type": "stream",
          "name": "stdout",
          "text": [
            "Métricas guardadas en: files/output/metrics.json\n"
          ]
        }
      ]
    },
    {
      "cell_type": "code",
      "source": [
        "from sklearn.metrics import confusion_matrix\n",
        "import json\n",
        "\n",
        "cm_train = confusion_matrix(y_train, y_train_pred)\n",
        "cm_matrix_train = {\n",
        "    'type': 'cm_matrix',\n",
        "    'dataset': 'train',\n",
        "    'true_0': {\"predicted_0\": int(cm_train[0, 0]), \"predicted_1\": int(cm_train[0, 1])},\n",
        "    'true_1': {\"predicted_0\": int(cm_train[1, 0]), \"predicted_1\": int(cm_train[1, 1])}\n",
        "}\n",
        "\n",
        "cm_test = confusion_matrix(y_test, y_test_pred)\n",
        "cm_matrix_test = {\n",
        "    'type': 'cm_matrix',\n",
        "    'dataset': 'test',\n",
        "    'true_0': {\"predicted_0\": int(cm_test[0, 0]), \"predicted_1\": int(cm_test[0, 1])},\n",
        "    'true_1': {\"predicted_0\": int(cm_test[1, 0]), \"predicted_1\": int(cm_test[1, 1])}\n",
        "}\n",
        "\n",
        "with open(metrics_path, 'r') as f:\n",
        "    metrics = json.load(f)\n",
        "\n",
        "metrics.extend([cm_matrix_train, cm_matrix_test])\n",
        "\n",
        "with open(metrics_path, 'w') as f:\n",
        "    json.dump(metrics, f, indent=4)\n",
        "\n",
        "print(f\"Matrices de confusión guardadas en: {metrics_path}\")\n",
        "\n"
      ],
      "metadata": {
        "colab": {
          "base_uri": "https://localhost:8080/"
        },
        "id": "IeFvl0iQx5a6",
        "outputId": "42325d47-6b77-4c5a-affa-09ab233a28f7"
      },
      "execution_count": 49,
      "outputs": [
        {
          "output_type": "stream",
          "name": "stdout",
          "text": [
            "Matrices de confusión guardadas en: files/output/metrics.json\n"
          ]
        }
      ]
    },
    {
      "cell_type": "code",
      "source": [],
      "metadata": {
        "id": "hrDLoREx0zzX"
      },
      "execution_count": null,
      "outputs": []
    }
  ]
}